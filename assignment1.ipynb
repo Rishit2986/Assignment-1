{
 "cells": [
  {
   "cell_type": "raw",
   "id": "7fe0ed35-f823-488d-8d58-291c60b43bd8",
   "metadata": {},
   "source": [
    "Q1. Create one variable containing following type of data:\n",
    "(i) string\n",
    "(ii) list\n",
    "(iii) float\n",
    "(iv) tuple\n",
    "ANS- (i) string =\"Rishit\"\n",
    "     (ii) list= [ \"Rishit\" ,17,91.2]\n",
    "     (iii) float = 91.2\n",
    "     (iv) tuple = (\"Rishit\" ,17,91.2)"
   ]
  },
  {
   "cell_type": "raw",
   "id": "1eb6f9ed-579f-47a4-905b-b639e6aec999",
   "metadata": {},
   "source": [
    "Q2] Q2. Given are some following variables containing data:\n",
    "(i) var1 = ‘ ‘\n",
    "(ii) var2 = ‘[ DS , ML , Python]’\n",
    "(iii) var3 = [ ‘DS’ , ’ML’ , ‘Python’ ]\n",
    "(iv) var4 = 1.\n",
    "What will be the data type of the above given variable.\n",
    "ANS- var1 is string.\n",
    "     var2 is string.\n",
    "     var3 is list.\n",
    "     var4 is integer."
   ]
  },
  {
   "cell_type": "raw",
   "id": "27b17f95-9a92-4319-ba2f-26b0d5b73a93",
   "metadata": {},
   "source": [
    "Q3] Explain the use of the following operators using an example:\n",
    "(i) /\n",
    "(ii) %\n",
    "(iii) //\n",
    "(iv) **\n",
    "ANS- (i) '/' is used for division.\n",
    "     (ii) '%' (modulus) is used to display the remainder.\n",
    "     (iii) '//'(floor division) is used for division and rounds the result down to the nearest whole number.\n",
    "     (iv) ** is used for writing an exponent/power of a number."
   ]
  },
  {
   "cell_type": "raw",
   "id": "50448270-7f8b-4bea-9a52-0d48c7bc0018",
   "metadata": {},
   "source": [
    "Q4] Create a list of length 10 of your choice containing multiple types of data. Using for loop print the\n",
    "element and its data type.\n",
    "ANS- \n",
    "    my_list = [ \"Rishit\" , 91.2 , 17 ,False, \"Lakhani\" , ('tuple') , 21.21 , 19 ,True , 21.22]\n",
    "    for i in my_list:\n",
    "    print(type(i))"
   ]
  },
  {
   "cell_type": "raw",
   "id": "275473a4-3c42-49ca-acca-92e2546b52bf",
   "metadata": {},
   "source": [
    "Q5] Using a while loop, verify if the number A is purely divisible by number B and if so then how many\n",
    "times it can be divisible.\n",
    "ANS- \n",
    "A = int(input(\"Enter a number : \"))\n",
    "B  =int(input(\"Enter another number : \"))\n",
    "def count_divisions(x,y):\n",
    "    count=0\n",
    "    while x%y==0:\n",
    "        x/=y\n",
    "        count+=1\n",
    "    return count\n",
    "    \n",
    "divisions = count_divisions(A,B)\n",
    "if divisions>0 :\n",
    "    print(f'{A} is purely  divisible by {B} {divisions} times')\n",
    "else :\n",
    "    print(f'{A} is not purely divisible by {B}')"
   ]
  },
  {
   "cell_type": "raw",
   "id": "e48b18d7-e346-4d0d-903a-06de37d308d6",
   "metadata": {},
   "source": [
    "Q6] Create a list containing 25 int type data. Using for loop and if-else condition print if the element is\n",
    "divisible by 3 or not.\n",
    "ANS-\n",
    "l=[1,2,3,4,5,6,7,8,9,10,11,12,13,14,15,16,17,18,19,20,21,22,23,24,25]\n",
    "for i in l:\n",
    "    if i%3==0:\n",
    "        print(f'{i} is divisible by 3')\n",
    "    else:\n",
    "        print(f'{i} is not divisible by 3')"
   ]
  },
  {
   "cell_type": "raw",
   "id": "0ca686a5-91c4-42ed-85b0-8cc6c9868e5e",
   "metadata": {},
   "source": [
    "Q7]  What do you understand about mutable and immutable data types? Give examples for both showing\n",
    "this property.\n",
    "ANS-\n",
    "1.Imutable data types:\n",
    "my_string =\"Rishit\"\n",
    "my_string[0]=\"L\"\n",
    "#this will give an error as string is imutable.\n",
    "#Same with tuples\n",
    "\n",
    "2.Mutable datatypes:\n",
    "my_list=[1,2,3]\n",
    "my_list[0]=0\n",
    "#Here 1 will be replace with 0 in the list as list is mutable.\n",
    "\n",
    "So from this we understand that mutable datatypes allow their contents to be changed while imutable datatypes\n",
    "do not allow their content to be changed.\n",
    "\n",
    "Mutable datatypes : List , sets , dictionaries\n",
    "Imutable datatypes : string , Tuple"
   ]
  },
  {
   "cell_type": "code",
   "execution_count": null,
   "id": "42676fad-77cb-4d64-841d-37c0093715cf",
   "metadata": {},
   "outputs": [],
   "source": []
  }
 ],
 "metadata": {
  "kernelspec": {
   "display_name": "Python 3 (ipykernel)",
   "language": "python",
   "name": "python3"
  },
  "language_info": {
   "codemirror_mode": {
    "name": "ipython",
    "version": 3
   },
   "file_extension": ".py",
   "mimetype": "text/x-python",
   "name": "python",
   "nbconvert_exporter": "python",
   "pygments_lexer": "ipython3",
   "version": "3.10.8"
  }
 },
 "nbformat": 4,
 "nbformat_minor": 5
}
